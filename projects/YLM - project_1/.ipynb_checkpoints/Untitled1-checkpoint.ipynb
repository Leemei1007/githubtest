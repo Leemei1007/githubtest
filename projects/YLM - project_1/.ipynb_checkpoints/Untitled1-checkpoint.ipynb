{
 "cells": [
  {
   "cell_type": "markdown",
   "metadata": {},
   "source": [
    "## Scenario\n",
    "\n"
   ]
  },
  {
   "cell_type": "markdown",
   "metadata": {},
   "source": [
    "A client which is a Singapore-based company, is in the business of private tutoring (both online and in-class tutor). The client has been providing SATS private tutoring to international school students in Singapore who adopt the USA education syllabus and the client's method of teaching and contents have been well received and regarded. In view of such resounding success, the client now wishes to expand its online tutoring for SATS in the USA. As the client is relatively unknown outside of Singapore, for a start, it has to invest in advertising its business. As advertising throughout the whole USA can be costly, the client is asking for advice which USA state should it target its advertising? In addition, as part of its community service campaign (and to a certain extent, publicity), it has allocated some budget/financial aid to award scholarships to deserving students. "
   ]
  },
  {
   "cell_type": "markdown",
   "metadata": {},
   "source": [
    "## Problem Statement\n",
    "\n",
    "\n",
    "1. To analyse which state is the most promising for the client to advertise its services and which state deserves the scholarship/financial aid from the client\n",
    "\n",
    "2. Targeted states: states with the highest and lowest participation rate and top scoring states "
   ]
  },
  {
   "cell_type": "markdown",
   "metadata": {},
   "source": []
  }
 ],
 "metadata": {
  "kernelspec": {
   "display_name": "Python 3",
   "language": "python",
   "name": "python3"
  },
  "language_info": {
   "codemirror_mode": {
    "name": "ipython",
    "version": 3
   },
   "file_extension": ".py",
   "mimetype": "text/x-python",
   "name": "python",
   "nbconvert_exporter": "python",
   "pygments_lexer": "ipython3",
   "version": "3.8.3"
  }
 },
 "nbformat": 4,
 "nbformat_minor": 4
}
